{
 "cells": [
  {
   "cell_type": "markdown",
   "metadata": {
    "collapsed": true,
    "deletable": true,
    "editable": true
   },
   "source": [
    "# Clean MTA Data"
   ]
  },
  {
   "cell_type": "code",
   "execution_count": 123,
   "metadata": {
    "collapsed": false,
    "deletable": true,
    "editable": true
   },
   "outputs": [
    {
     "data": {
      "application/javascript": [
       "IPython.OutputArea.auto_scroll_threshold = 9999;"
      ],
      "text/plain": [
       "<IPython.core.display.Javascript object>"
      ]
     },
     "metadata": {},
     "output_type": "display_data"
    }
   ],
   "source": [
    "%%javascript\n",
    "IPython.OutputArea.auto_scroll_threshold = 9999;"
   ]
  },
  {
   "cell_type": "code",
   "execution_count": 137,
   "metadata": {
    "collapsed": true,
    "deletable": true,
    "editable": true
   },
   "outputs": [],
   "source": [
    "## This program is used to clean out the data from the csv that you collected.\n",
    "## It aims at removing duplicate entries and extracting any further insights\n",
    "## that the author(s) of the code may see fit\n",
    "\n",
    "## Usage (for file as is currently): python buildTrainingDataSet.py <filename of file from part 1>\n",
    "\n",
    "import sys\n",
    "\n",
    "# Pandas is a python library used for data analysis\n",
    "import pandas\n",
    "from pandas import read_csv\n",
    "from pytz import timezone\n",
    "from datetime import datetime\n",
    "from pandas import DataFrame\n",
    "from numpy.random import randint\n",
    "\n",
    "\n",
    "TIMEZONE = timezone('America/New_York')\n",
    "\n"
   ]
  },
  {
   "cell_type": "code",
   "execution_count": 138,
   "metadata": {
    "collapsed": false
   },
   "outputs": [],
   "source": [
    "rawData = pandas.read_csv('finalData.csv')"
   ]
  },
  {
   "cell_type": "code",
   "execution_count": 142,
   "metadata": {
    "collapsed": false
   },
   "outputs": [
    {
     "data": {
      "text/html": [
       "<div>\n",
       "<table border=\"1\" class=\"dataframe\">\n",
       "  <thead>\n",
       "    <tr style=\"text-align: right;\">\n",
       "      <th></th>\n",
       "      <th>tripId (S)</th>\n",
       "      <th>NinetySixArrive (S)</th>\n",
       "      <th>TimesSquareArrive (S)</th>\n",
       "      <th>dow (S)</th>\n",
       "      <th>routeId (S)</th>\n",
       "      <th>ts (N)</th>\n",
       "    </tr>\n",
       "  </thead>\n",
       "  <tbody>\n",
       "    <tr>\n",
       "      <th>0</th>\n",
       "      <td>817.5</td>\n",
       "      <td>846</td>\n",
       "      <td>859</td>\n",
       "      <td>weekday</td>\n",
       "      <td>1</td>\n",
       "      <td>859</td>\n",
       "    </tr>\n",
       "    <tr>\n",
       "      <th>1</th>\n",
       "      <td>1198.0</td>\n",
       "      <td>1225</td>\n",
       "      <td>1237</td>\n",
       "      <td>weekend</td>\n",
       "      <td>1</td>\n",
       "      <td>1238</td>\n",
       "    </tr>\n",
       "    <tr>\n",
       "      <th>2</th>\n",
       "      <td>982.0</td>\n",
       "      <td>997</td>\n",
       "      <td>1004</td>\n",
       "      <td>weekday</td>\n",
       "      <td>3</td>\n",
       "      <td>1005</td>\n",
       "    </tr>\n",
       "    <tr>\n",
       "      <th>3</th>\n",
       "      <td>925.5</td>\n",
       "      <td>952</td>\n",
       "      <td>965</td>\n",
       "      <td>weekend</td>\n",
       "      <td>1</td>\n",
       "      <td>967</td>\n",
       "    </tr>\n",
       "    <tr>\n",
       "      <th>4</th>\n",
       "      <td>532.5</td>\n",
       "      <td>562</td>\n",
       "      <td>577</td>\n",
       "      <td>weekday</td>\n",
       "      <td>1</td>\n",
       "      <td>579</td>\n",
       "    </tr>\n",
       "  </tbody>\n",
       "</table>\n",
       "</div>"
      ],
      "text/plain": [
       "   tripId (S)  NinetySixArrive (S)  TimesSquareArrive (S)  dow (S)  \\\n",
       "0       817.5                  846                    859  weekday   \n",
       "1      1198.0                 1225                   1237  weekend   \n",
       "2       982.0                  997                   1004  weekday   \n",
       "3       925.5                  952                    965  weekend   \n",
       "4       532.5                  562                    577  weekday   \n",
       "\n",
       "   routeId (S)  ts (N)  \n",
       "0            1     859  \n",
       "1            1    1238  \n",
       "2            3    1005  \n",
       "3            1     967  \n",
       "4            1     579  "
      ]
     },
     "execution_count": 142,
     "metadata": {},
     "output_type": "execute_result"
    }
   ],
   "source": [
    "rawData.head()"
   ]
  },
  {
   "cell_type": "code",
   "execution_count": 143,
   "metadata": {
    "collapsed": false
   },
   "outputs": [],
   "source": [
    "df = rawData\n",
    "#pd.to_numeric(df['TimesSquareArrive'])\n",
    "#pd.to_numeric(df['NinetySixArrive'])"
   ]
  },
  {
   "cell_type": "code",
   "execution_count": 144,
   "metadata": {
    "collapsed": false
   },
   "outputs": [],
   "source": [
    "df['travelTime'] = df['TimesSquareArrive (S)'].sub(df['NinetySixArrive (S)'])"
   ]
  },
  {
   "cell_type": "code",
   "execution_count": 129,
   "metadata": {
    "collapsed": false
   },
   "outputs": [],
   "source": [
    "#df"
   ]
  },
  {
   "cell_type": "code",
   "execution_count": 145,
   "metadata": {
    "collapsed": false
   },
   "outputs": [],
   "source": [
    "df['routeId (S)'] = df['routeId (S)'].replace({1: 'local', 2: 'express', 3: 'express'})"
   ]
  },
  {
   "cell_type": "code",
   "execution_count": 146,
   "metadata": {
    "collapsed": false
   },
   "outputs": [
    {
     "data": {
      "text/html": [
       "<div>\n",
       "<table border=\"1\" class=\"dataframe\">\n",
       "  <thead>\n",
       "    <tr style=\"text-align: right;\">\n",
       "      <th></th>\n",
       "      <th>tripId (S)</th>\n",
       "      <th>NinetySixArrive (S)</th>\n",
       "      <th>TimesSquareArrive (S)</th>\n",
       "      <th>dow (S)</th>\n",
       "      <th>routeId (S)</th>\n",
       "      <th>ts (N)</th>\n",
       "      <th>travelTime</th>\n",
       "    </tr>\n",
       "  </thead>\n",
       "  <tbody>\n",
       "    <tr>\n",
       "      <th>0</th>\n",
       "      <td>817.5</td>\n",
       "      <td>846</td>\n",
       "      <td>859</td>\n",
       "      <td>weekday</td>\n",
       "      <td>local</td>\n",
       "      <td>859</td>\n",
       "      <td>13</td>\n",
       "    </tr>\n",
       "    <tr>\n",
       "      <th>1</th>\n",
       "      <td>1198.0</td>\n",
       "      <td>1225</td>\n",
       "      <td>1237</td>\n",
       "      <td>weekend</td>\n",
       "      <td>local</td>\n",
       "      <td>1238</td>\n",
       "      <td>12</td>\n",
       "    </tr>\n",
       "    <tr>\n",
       "      <th>2</th>\n",
       "      <td>982.0</td>\n",
       "      <td>997</td>\n",
       "      <td>1004</td>\n",
       "      <td>weekday</td>\n",
       "      <td>express</td>\n",
       "      <td>1005</td>\n",
       "      <td>7</td>\n",
       "    </tr>\n",
       "    <tr>\n",
       "      <th>3</th>\n",
       "      <td>925.5</td>\n",
       "      <td>952</td>\n",
       "      <td>965</td>\n",
       "      <td>weekend</td>\n",
       "      <td>local</td>\n",
       "      <td>967</td>\n",
       "      <td>13</td>\n",
       "    </tr>\n",
       "    <tr>\n",
       "      <th>4</th>\n",
       "      <td>532.5</td>\n",
       "      <td>562</td>\n",
       "      <td>577</td>\n",
       "      <td>weekday</td>\n",
       "      <td>local</td>\n",
       "      <td>579</td>\n",
       "      <td>15</td>\n",
       "    </tr>\n",
       "  </tbody>\n",
       "</table>\n",
       "</div>"
      ],
      "text/plain": [
       "   tripId (S)  NinetySixArrive (S)  TimesSquareArrive (S)  dow (S)  \\\n",
       "0       817.5                  846                    859  weekday   \n",
       "1      1198.0                 1225                   1237  weekend   \n",
       "2       982.0                  997                   1004  weekday   \n",
       "3       925.5                  952                    965  weekend   \n",
       "4       532.5                  562                    577  weekday   \n",
       "\n",
       "  routeId (S)  ts (N)  travelTime  \n",
       "0       local     859          13  \n",
       "1       local    1238          12  \n",
       "2     express    1005           7  \n",
       "3       local     967          13  \n",
       "4       local     579          15  "
      ]
     },
     "execution_count": 146,
     "metadata": {},
     "output_type": "execute_result"
    }
   ],
   "source": [
    "df.head()"
   ]
  },
  {
   "cell_type": "code",
   "execution_count": 147,
   "metadata": {
    "collapsed": false
   },
   "outputs": [],
   "source": [
    "finalData = pandas.DataFrame(df)"
   ]
  },
  {
   "cell_type": "code",
   "execution_count": 148,
   "metadata": {
    "collapsed": false,
    "scrolled": true
   },
   "outputs": [],
   "source": [
    "finalData.to_csv(\"finalData1.csv\",index=False)"
   ]
  },
  {
   "cell_type": "code",
   "execution_count": null,
   "metadata": {
    "collapsed": true
   },
   "outputs": [],
   "source": []
  }
 ],
 "metadata": {
  "anaconda-cloud": {},
  "kernelspec": {
   "display_name": "Python 2",
   "language": "python",
   "name": "python2"
  },
  "language_info": {
   "codemirror_mode": {
    "name": "ipython",
    "version": 2
   },
   "file_extension": ".py",
   "mimetype": "text/x-python",
   "name": "python",
   "nbconvert_exporter": "python",
   "pygments_lexer": "ipython2",
   "version": "2.7.13"
  }
 },
 "nbformat": 4,
 "nbformat_minor": 1
}
